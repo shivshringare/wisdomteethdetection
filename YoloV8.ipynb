{
  "nbformat": 4,
  "nbformat_minor": 0,
  "metadata": {
    "colab": {
      "provenance": [],
      "gpuType": "T4",
      "machine_shape": "hm",
      "private_outputs": true,
      "authorship_tag": "ABX9TyOZYpkslUOzBvedj5tYQgHq",
      "include_colab_link": true
    },
    "kernelspec": {
      "name": "python3",
      "display_name": "Python 3"
    },
    "language_info": {
      "name": "python"
    },
    "accelerator": "GPU"
  },
  "cells": [
    {
      "cell_type": "markdown",
      "metadata": {
        "id": "view-in-github",
        "colab_type": "text"
      },
      "source": [
        "<a href=\"https://colab.research.google.com/github/shivshringare/wisdomteethdetection/blob/main/YoloV8.ipynb\" target=\"_parent\"><img src=\"https://colab.research.google.com/assets/colab-badge.svg\" alt=\"Open In Colab\"/></a>"
      ]
    },
    {
      "cell_type": "code",
      "source": [
        "!pip install ultralytics"
      ],
      "metadata": {
        "id": "6GTDLo8UW3MU"
      },
      "execution_count": null,
      "outputs": []
    },
    {
      "cell_type": "code",
      "source": [
        "import os\n",
        "import shutil\n",
        "\n",
        "# remove sample folder\n",
        "shutil.rmtree('sample_data/')\n",
        "\n",
        "# Download augmented 900 dataset\n",
        "os.makedirs('datasets/augmented_900/')\n",
        "!curl -L \"https://app.roboflow.com/ds/ei1g3qCzDx?key=ZtR0shdowY\" > roboflow.zip; unzip roboflow.zip -d datasets/augmented_900/; rm roboflow.zip\n",
        "\n",
        "# Download enhanced 900 dataset\n",
        "os.makedirs('datasets/enhanced_900/')\n",
        "!curl -L \"https://app.roboflow.com/ds/IY2DEQS9sM?key=nFMe8OyNIO\" > roboflow.zip; unzip roboflow.zip -d datasets/enhanced_900/; rm roboflow.zip"
      ],
      "metadata": {
        "id": "5fnMxIcRXLvA"
      },
      "execution_count": null,
      "outputs": []
    },
    {
      "cell_type": "code",
      "source": [
        "# remove runs folder.\n",
        "# only do this when you know you dont want the results in it\n",
        "import shutil\n",
        "\n",
        "shutil.rmtree('runs/')"
      ],
      "metadata": {
        "id": "0OXcgfcWlnER"
      },
      "execution_count": null,
      "outputs": []
    },
    {
      "cell_type": "code",
      "execution_count": null,
      "metadata": {
        "id": "2wRp3rYhl3YU"
      },
      "outputs": [],
      "source": [
        "from ultralytics import YOLO\n",
        "\n",
        "# Initialize YOLOv8 model\n",
        "model = YOLO('yolov8n')\n",
        "\n",
        "# Train the model\n",
        "model.train(mode='train', data='data.yaml', epochs=100, device='gpu', batch=64, workers=10, val=False, name='training_results')"
      ]
    },
    {
      "cell_type": "code",
      "source": [
        "import torch\n",
        "\n",
        "# Check if Colab GPU is active\n",
        "print(torch.cuda.is_available())\n",
        "print(torch.cuda.device_count())\n"
      ],
      "metadata": {
        "id": "052HRu8_uVEA"
      },
      "execution_count": null,
      "outputs": []
    },
    {
      "cell_type": "code",
      "source": [
        "import locale\n",
        "locale.getpreferredencoding = lambda: \"UTF-8\"\n",
        "\n",
        "# Zip results\n",
        "!zip -r enhanced_results.zip runs/detect/enhanced_results/\n",
        "!zip -r augmented_results.zip runs/detect/augmented_results/"
      ],
      "metadata": {
        "id": "wncATuYe_lPF"
      },
      "execution_count": null,
      "outputs": []
    },
    {
      "cell_type": "markdown",
      "source": [],
      "metadata": {
        "id": "A5ikguQAH3Nc"
      }
    }
  ]
}